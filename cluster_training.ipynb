{
  "nbformat": 4,
  "nbformat_minor": 0,
  "metadata": {
    "colab": {
      "name": "cluster-training.ipynb",
      "version": "0.3.2",
      "views": {},
      "default_view": {},
      "provenance": [],
      "collapsed_sections": []
    },
    "kernelspec": {
      "name": "python2",
      "display_name": "Python 2"
    },
    "accelerator": "GPU"
  },
  "cells": [
    {
      "metadata": {
        "id": "3obbPoHmltZv",
        "colab_type": "code",
        "colab": {
          "autoexec": {
            "startup": false,
            "wait_interval": 0
          }
        }
      },
      "cell_type": "code",
      "source": [
        "!pip install pandas\n",
        "!pip install nltk\n",
        "!pip install numpy\n",
        "!pip install gensim\n",
        "!pip install scikit-learn\n",
        "!pip install matplotlib"
      ],
      "execution_count": 0,
      "outputs": []
    },
    {
      "metadata": {
        "id": "45ZgxLckmMwk",
        "colab_type": "code",
        "colab": {
          "autoexec": {
            "startup": false,
            "wait_interval": 0
          }
        }
      },
      "cell_type": "code",
      "source": [
        "ls"
      ],
      "execution_count": 0,
      "outputs": []
    },
    {
      "metadata": {
        "id": "DKWa6MEWnCig",
        "colab_type": "code",
        "colab": {
          "autoexec": {
            "startup": false,
            "wait_interval": 0
          }
        }
      },
      "cell_type": "code",
      "source": [
        "#Download Google Drive Dependencies\n",
        "!apt-get update -qq 2>&1 > /dev/null\n",
        "!apt-get install -y -qq software-properties-common python-software-properties module-init-tools\n",
        "!add-apt-repository -y ppa:alessandro-strada/ppa 2>&1 > /dev/null\n",
        "!apt-get update -qq 2>&1 > /dev/null\n",
        "!apt-get -y install -qq google-drive-ocamlfuse fuse"
      ],
      "execution_count": 0,
      "outputs": []
    },
    {
      "metadata": {
        "id": "trXvuj7XnNF4",
        "colab_type": "code",
        "colab": {
          "autoexec": {
            "startup": false,
            "wait_interval": 0
          }
        }
      },
      "cell_type": "code",
      "source": [
        "# Generate auth tokens for Colab\n",
        "from google.colab import auth\n",
        "auth.authenticate_user()"
      ],
      "execution_count": 0,
      "outputs": []
    },
    {
      "metadata": {
        "id": "EdIhSK5sncw-",
        "colab_type": "code",
        "colab": {
          "autoexec": {
            "startup": false,
            "wait_interval": 0
          }
        }
      },
      "cell_type": "code",
      "source": [
        "# Generate creds for the Drive FUSE library.\n",
        "from oauth2client.client import GoogleCredentials\n",
        "creds = GoogleCredentials.get_application_default()\n",
        "import getpass\n",
        "# Work around misordering of STREAM and STDIN in Jupyter.\n",
        "# https://github.com/jupyter/notebook/issues/3159\n",
        "prompt = !google-drive-ocamlfuse -headless -id={creds.client_id} -secret={creds.client_secret} < /dev/null 2>&1 | grep URL\n",
        "vcode = getpass.getpass(prompt[0] + '\\n\\nEnter verification code: ')\n",
        "!echo {vcode} | google-drive-ocamlfuse -headless -id={creds.client_id} -secret={creds.client_secret}"
      ],
      "execution_count": 0,
      "outputs": []
    },
    {
      "metadata": {
        "id": "TQUVr9_un1He",
        "colab_type": "code",
        "colab": {
          "autoexec": {
            "startup": false,
            "wait_interval": 0
          }
        }
      },
      "cell_type": "code",
      "source": [
        "# Create a directory and mount Google Drive using that directory.\n",
        "!mkdir -p drive\n",
        "!google-drive-ocamlfuse drive\n",
        "\n",
        "print 'Files in Drive:'\n",
        "!ls drive/\n",
        "\n",
        "# Create a file in Drive.\n",
        "!echo \"This newly created file will appear in your Drive file list.\" > drive/created.txt"
      ],
      "execution_count": 0,
      "outputs": []
    },
    {
      "metadata": {
        "id": "iZUFXmA_oArr",
        "colab_type": "code",
        "colab": {
          "autoexec": {
            "startup": false,
            "wait_interval": 0
          }
        }
      },
      "cell_type": "code",
      "source": [
        "ls drive"
      ],
      "execution_count": 0,
      "outputs": []
    },
    {
      "metadata": {
        "id": "qvDnsHP4oIny",
        "colab_type": "code",
        "colab": {
          "autoexec": {
            "startup": false,
            "wait_interval": 0
          }
        }
      },
      "cell_type": "code",
      "source": [
        "import os\n",
        "os.chdir(\"drive\")"
      ],
      "execution_count": 0,
      "outputs": []
    },
    {
      "metadata": {
        "id": "A-EM3Ira0DPC",
        "colab_type": "code",
        "colab": {
          "autoexec": {
            "startup": false,
            "wait_interval": 0
          }
        }
      },
      "cell_type": "code",
      "source": [
        "ls"
      ],
      "execution_count": 0,
      "outputs": []
    },
    {
      "metadata": {
        "id": "8qyb-IR5x4-A",
        "colab_type": "code",
        "colab": {
          "autoexec": {
            "startup": false,
            "wait_interval": 0
          }
        }
      },
      "cell_type": "code",
      "source": [
        "import pandas as pd\n",
        "import nltk\n",
        "import math\n",
        "import codecs\n",
        "import csv\n",
        "import sys\n",
        "import math\n",
        "from nltk.corpus import stopwords\n",
        "from gensim.models.doc2vec import TaggedDocument, Doc2Vec\n",
        "from sklearn.cluster import KMeans\n",
        "from sklearn.utils import shuffle\n",
        "import os\n",
        "\n",
        "model_save_root = os.path.join('colab_tests','cluster_tests')\n",
        "model_name = \"movie-trained.model\"\n",
        "filename = os.path.join('colab_tests','cluster_tests','movies_metadata.csv')\n",
        "test_filename = os.path.join('colab_tests','cluster_tests','test_movies_metadata.csv')\n",
        "\n",
        "data = pd.read_csv(filename)\n",
        "overview = data['overview'].astype('str').tolist()\n",
        "\n",
        "# Split 90 - 10\n",
        "total_length = len(overview)\n",
        "test_length = int(math.floor(((total_length * 10)/100)))\n",
        "train_length = total_length - test_length\n",
        "\n",
        "\n",
        "# Shuffle the list\n",
        "overview = filter(bool, overview)\n",
        "overview = shuffle(overview)\n",
        "train_set = overview[0:train_length]\n",
        "test_set = overview[train_length: total_length]\n",
        "\n",
        "#Create test csv from the test set\n",
        "print(\"creating test file\")\n",
        "test_data_frame = pd.DataFrame(test_set, columns=[\"overview\"])\n",
        "test_data_csv = test_data_frame.to_csv()\n",
        "test_file_handler = open(test_filename,\"w+\")\n",
        "test_file_handler.write(test_data_csv)\n",
        "test_file_handler.close()\n",
        "\n",
        "class Documents(object):\n",
        "    def __init__(self, documents):\n",
        "        self.documents = documents\n",
        "\n",
        "    def __iter__(self):\n",
        "        for i, doc in enumerate(self.documents):\n",
        "            yield TaggedDocument(words=doc, tags=[i])\n",
        "\n",
        "\n",
        "documents = Documents(train_set)\n",
        "\n",
        "model = Doc2Vec(vector_size=100, dbow_words=1, dm=0, epochs=20,  window=2, min_count=2, workers=4)\n",
        "\n",
        "model.build_vocab(documents)"
      ],
      "execution_count": 0,
      "outputs": []
    },
    {
      "metadata": {
        "id": "P_l5pwXQzK0_",
        "colab_type": "code",
        "colab": {
          "autoexec": {
            "startup": false,
            "wait_interval": 0
          }
        }
      },
      "cell_type": "code",
      "source": [
        "print(\"Training on {} documents\".format(model.corpus_count))\n",
        "model.train(documents, total_examples=model.corpus_count, epochs=model.epochs)\n"
      ],
      "execution_count": 0,
      "outputs": []
    },
    {
      "metadata": {
        "id": "E7DOOzhlzR_k",
        "colab_type": "code",
        "colab": {
          "autoexec": {
            "startup": false,
            "wait_interval": 0
          }
        }
      },
      "cell_type": "code",
      "source": [
        "checkpoint_save_path = os.path.join(model_save_root,str(model.epochs)+\"_cluster.model\")\n",
        "model.save(checkpoint_save_path)"
      ],
      "execution_count": 0,
      "outputs": []
    },
    {
      "metadata": {
        "id": "bxSeJl23DprJ",
        "colab_type": "code",
        "colab": {
          "autoexec": {
            "startup": false,
            "wait_interval": 0
          },
          "base_uri": "https://localhost:8080/",
          "height": 398
        },
        "outputId": "4d30395c-a01f-42a7-fc5d-59751d8e4755",
        "executionInfo": {
          "status": "ok",
          "timestamp": 1531829249179,
          "user_tz": -330,
          "elapsed": 18760,
          "user": {
            "displayName": "Suhail Gupta",
            "photoUrl": "//lh5.googleusercontent.com/-2UemLwnURww/AAAAAAAAAAI/AAAAAAAAK3M/v4OqwDXqk70/s50-c-k-no/photo.jpg",
            "userId": "104718184892404315645"
          }
        }
      },
      "cell_type": "code",
      "source": [
        "#Create cluster using K-Means\n",
        "#Only creates graph\n",
        "import matplotlib\n",
        "#matplotlib.use('Agg')\n",
        "import re\n",
        "import os\n",
        "import nltk, math, codecs\n",
        "import csv\n",
        "from nltk.corpus import stopwords\n",
        "from gensim.models import Doc2Vec\n",
        "from sklearn.cluster import KMeans\n",
        "import matplotlib.pyplot as plt\n",
        "import pandas as pd\n",
        "\n",
        "model_name = checkpoint_save_path\n",
        "loaded_model = Doc2Vec.load(model_name)\n",
        "\n",
        "#Load the test csv file\n",
        "data = pd.read_csv(test_filename)\n",
        "overview = data['overview'].astype('str').tolist()\n",
        "overview = filter(bool, overview)\n",
        "vectors = []\n",
        "\n",
        "def split_words(text):\n",
        "  return ''.join([x if x.isalnum() or x.isspace() else \" \" for x in text ]).split()\n",
        "\n",
        "def preprocess_document(text):\n",
        "  sp_words = split_words(text)\n",
        "  return sp_words\n",
        "\n",
        "for i, t in enumerate(overview):\n",
        "  vectors.append(loaded_model.infer_vector(preprocess_document(t)))\n",
        "\n",
        "sse = {}\n",
        "for k in range(1,15):\n",
        "  km = KMeans(n_clusters=k, max_iter=1000, verbose = 0).fit(vectors)\n",
        "  sse[k] = km.inertia_\n",
        "  \n",
        "best_cluster_size = 1\n",
        "min_error = float(\"inf\")\n",
        "\n",
        "for cluster_size in sse:\n",
        "    if sse[cluster_size] < min_error:\n",
        "        min_error = sse[cluster_size]\n",
        "        best_cluster_size = cluster_size\n",
        "\n",
        "print(sse)\n",
        "\n",
        "plt.figure()\n",
        "plt.plot(list(sse.keys()), list(sse.values()))\n",
        "plt.xlabel(\"Number of cluster\")\n",
        "plt.ylabel(\"SSE\")\n",
        "plt.show()\n",
        "#plt.savefig(\"sse_vs_number_of_clusters.png\")\n",
        "\n",
        "  "
      ],
      "execution_count": 34,
      "outputs": [
        {
          "output_type": "stream",
          "text": [
            "{1: 820.5102212796877, 2: 483.39371793431235, 3: 391.7376069802646, 4: 334.9046389453258, 5: 299.7100344001613, 6: 285.0106343471107, 7: 270.81737110830016, 8: 259.44369841666713, 9: 252.41869755110824, 10: 246.71926643645025, 11: 240.585269219346, 12: 233.53882259021213, 13: 229.52718571790734, 14: 222.81039923776075}\n"
          ],
          "name": "stdout"
        },
        {
          "output_type": "display_data",
          "data": {
            "image/png": "[encoded data removed]",
            "text/plain": [
              "<matplotlib.figure.Figure at 0x7fccd9597fd0>"
            ]
          },
          "metadata": {
            "tags": []
          }
        }
      ]
    },
    {
      "metadata": {
        "id": "hOoPt00CIMst",
        "colab_type": "code",
        "colab": {
          "autoexec": {
            "startup": false,
            "wait_interval": 0
          }
        }
      },
      "cell_type": "code",
      "source": [
        "#Create cluster using K-Means\n",
        "import matplotlib\n",
        "#matplotlib.use('Agg')\n",
        "import re\n",
        "import os\n",
        "import nltk, math, codecs\n",
        "import csv\n",
        "from nltk.corpus import stopwords\n",
        "from gensim.models import Doc2Vec\n",
        "from sklearn.cluster import KMeans\n",
        "import matplotlib.pyplot as plt\n",
        "import pandas as pd\n",
        "\n",
        "model_name = checkpoint_save_path\n",
        "loaded_model = Doc2Vec.load(model_name)\n",
        "\n",
        "#Load the test csv file\n",
        "data = pd.read_csv(test_filename)\n",
        "overview = data['overview'].astype('str').tolist()\n",
        "overview = filter(bool, overview)\n",
        "vectors = []\n",
        "\n",
        "def split_words(text):\n",
        "  return ''.join([x if x.isalnum() or x.isspace() else \" \" for x in text ]).split()\n",
        "\n",
        "def preprocess_document(text):\n",
        "  sp_words = split_words(text)\n",
        "  return sp_words\n",
        "\n",
        "for i, t in enumerate(overview):\n",
        "  vectors.append(loaded_model.infer_vector(preprocess_document(t)))\n",
        "\n",
        "km = KMeans(n_clusters=5, max_iter=1000, verbose = 0).fit(vectors)\n",
        "clusters = km.labels_.tolist()\n",
        "csvRows = []\n",
        "\n",
        "for idx in range(len(overview)):\n",
        "    csvRows.append({\n",
        "        'overview': overview[idx],\n",
        "        'cluster': clusters[idx]\n",
        "    })\n",
        "\n",
        "    \n",
        "csv_data_frame = pd.DataFrame(csvRows, columns=[\"cluster\",\"overview\"])\n",
        "cluster_csv = csv_data_frame.to_csv()\n",
        "\n",
        "cluster_file_handler = open(os.path.join(model_save_root,\"cluster.csv\"),\"w+\")\n",
        "cluster_file_handler.write(cluster_csv)\n",
        "cluster_file_handler.close()"
      ],
      "execution_count": 0,
      "outputs": []
    },
    {
      "metadata": {
        "id": "_tH4QbZb8JiK",
        "colab_type": "code",
        "colab": {
          "autoexec": {
            "startup": false,
            "wait_interval": 0
          }
        }
      },
      "cell_type": "code",
      "source": [
        ""
      ],
      "execution_count": 0,
      "outputs": []
    }
  ]
}